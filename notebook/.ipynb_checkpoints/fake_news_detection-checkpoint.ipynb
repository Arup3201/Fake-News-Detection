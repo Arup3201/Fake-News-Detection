{
 "cells": [
  {
   "cell_type": "code",
   "execution_count": 63,
   "metadata": {},
   "outputs": [],
   "source": [
    "import numpy as np\n",
    "import pandas as pd\n",
    "import plotly.express as px\n",
    "import spacy"
   ]
  },
  {
   "cell_type": "markdown",
   "metadata": {},
   "source": [
    "**Dataset**"
   ]
  },
  {
   "cell_type": "code",
   "execution_count": 2,
   "metadata": {},
   "outputs": [],
   "source": [
    "data = pd.read_excel('../data/news_dataset_small.xlsx')"
   ]
  },
  {
   "cell_type": "code",
   "execution_count": 57,
   "metadata": {},
   "outputs": [
    {
     "data": {
      "text/html": [
       "<div>\n",
       "<style scoped>\n",
       "    .dataframe tbody tr th:only-of-type {\n",
       "        vertical-align: middle;\n",
       "    }\n",
       "\n",
       "    .dataframe tbody tr th {\n",
       "        vertical-align: top;\n",
       "    }\n",
       "\n",
       "    .dataframe thead th {\n",
       "        text-align: right;\n",
       "    }\n",
       "</style>\n",
       "<table border=\"1\" class=\"dataframe\">\n",
       "  <thead>\n",
       "    <tr style=\"text-align: right;\">\n",
       "      <th></th>\n",
       "      <th>text</th>\n",
       "      <th>label</th>\n",
       "    </tr>\n",
       "  </thead>\n",
       "  <tbody>\n",
       "    <tr>\n",
       "      <th>0</th>\n",
       "      <td>No comment is expected from Barack Obama Membe...</td>\n",
       "      <td>fake</td>\n",
       "    </tr>\n",
       "    <tr>\n",
       "      <th>1</th>\n",
       "      <td>Did they post their votes for Hillary already?</td>\n",
       "      <td>fake</td>\n",
       "    </tr>\n",
       "    <tr>\n",
       "      <th>2</th>\n",
       "      <td>Now, most of the demonstrators gathered last ...</td>\n",
       "      <td>fake</td>\n",
       "    </tr>\n",
       "    <tr>\n",
       "      <th>3</th>\n",
       "      <td>A dozen politically active pastors came here f...</td>\n",
       "      <td>real</td>\n",
       "    </tr>\n",
       "    <tr>\n",
       "      <th>4</th>\n",
       "      <td>The RS-28 Sarmat missile, dubbed Satan 2, will...</td>\n",
       "      <td>fake</td>\n",
       "    </tr>\n",
       "  </tbody>\n",
       "</table>\n",
       "</div>"
      ],
      "text/plain": [
       "                                                text label\n",
       "0  No comment is expected from Barack Obama Membe...  fake\n",
       "1     Did they post their votes for Hillary already?  fake\n",
       "2   Now, most of the demonstrators gathered last ...  fake\n",
       "3  A dozen politically active pastors came here f...  real\n",
       "4  The RS-28 Sarmat missile, dubbed Satan 2, will...  fake"
      ]
     },
     "execution_count": 57,
     "metadata": {},
     "output_type": "execute_result"
    }
   ],
   "source": [
    "data.head()"
   ]
  },
  {
   "cell_type": "code",
   "execution_count": 4,
   "metadata": {},
   "outputs": [
    {
     "data": {
      "text/plain": [
       "(14999, 2)"
      ]
     },
     "execution_count": 4,
     "metadata": {},
     "output_type": "execute_result"
    }
   ],
   "source": [
    "data.shape"
   ]
  },
  {
   "cell_type": "code",
   "execution_count": 5,
   "metadata": {},
   "outputs": [
    {
     "name": "stdout",
     "output_type": "stream",
     "text": [
      "<class 'pandas.core.frame.DataFrame'>\n",
      "RangeIndex: 14999 entries, 0 to 14998\n",
      "Data columns (total 2 columns):\n",
      " #   Column  Non-Null Count  Dtype \n",
      "---  ------  --------------  ----- \n",
      " 0   text    14999 non-null  object\n",
      " 1   label   14999 non-null  object\n",
      "dtypes: object(2)\n",
      "memory usage: 234.5+ KB\n"
     ]
    }
   ],
   "source": [
    "data.info()"
   ]
  },
  {
   "cell_type": "markdown",
   "metadata": {},
   "source": [
    "## Data Preprocessing\n",
    "\n",
    "**Strategy:**\n",
    "1. Tokenize news.\n",
    "2. Lower case the tokens.\n",
    "3. Remove stop words.\n",
    "4. Use lemmatization on the tokens.\n",
    "5. Remove punctuations from the news.\n",
    "6. Vectorize the news using TF-IDF or Word Embedding to represent in formtat suitable for machine learning model."
   ]
  },
  {
   "cell_type": "code",
   "execution_count": 84,
   "metadata": {},
   "outputs": [],
   "source": [
    "# Funtion for preprocessing\n",
    "nlp = spacy.load(\"en_core_web_sm\")\n",
    "\n",
    "def preprocess_news(news):\n",
    "    preprocessed_news = []\n",
    "    \n",
    "    docs = nlp.tokenizer.pipe(news)\n",
    "\n",
    "    for doc in docs:\n",
    "        preprocessed_words = [token.text.lower() for token in doc if not (token.is_stop or token.is_punct or token.is_space)]\n",
    "        preprocessed_news.append(' '.join(preprocessed_words))\n",
    "\n",
    "    return preprocessed_news\n",
    "\n",
    "def preprocess_label(label):\n",
    "    return 1 if label==\"fake\" else 0"
   ]
  },
  {
   "cell_type": "code",
   "execution_count": 85,
   "metadata": {},
   "outputs": [],
   "source": [
    "preprocessed_data = pd.DataFrame({'text': [], 'label': []})\n",
    "\n",
    "preprocessed_data['text'] = preprocess_news(data['text'])\n",
    "preprocessed_data['label'] = data['label'].apply(preprocess_label)"
   ]
  },
  {
   "cell_type": "code",
   "execution_count": 86,
   "metadata": {},
   "outputs": [
    {
     "data": {
      "text/plain": [
       "'comment expected barack obama members fyf911 fukyoflag blacklivesmatter movements called lynching hanging white people cops encouraged radio tuesday night turn tide kill white people cops send message killing black people america f***yoflag organizers called sunshine radio blog hosted texas called sunshine s f***ing opinion radio snapshot fyf911 @lolatwhitefear twitter page 9:53 p.m. shows urging supporters fyf911 tonight continue dismantle illusion white snapshot twitter radio invite fyf911the radio aired 10:00 p.m. eastern standard time callers clearly lynching killing white people 2:39 minute clip radio heard provided breitbart texas like referred hannibal received death threats result interrupting fyf911 conference calls unidentified black man said mother f**kers s start f***ing like bunch ni**ers takin s roll said cause roll gangs seven black mother f**ckers white person lynch ass let s turn tables conspired cops started losing people state emergency speculated things happen big ass r s war ni**ers going start backin getting killed f**k got lose sunshine heard saying yep s true s f**king true said need turn tables kids getting shot somebody needs sacrifice said everybody ain t s**t like everybody different position war continued don t f**k said utilized s**t turn tables n**ers said way start lookin like ain t havin casualties causalities instead killing black people black lives don t matter s mother f**kers got matter find mother f**ker snap ass f***in hang damn tree picture send mother f**kers need example people start watchin turn tables s**t said said start trickle effect said white person hung flat hanging start trickle effect continued black people good starting trends said upper hand black man spoke saying needed kill cops killing black male said best method right breitbart texas previously reported sunshine upset racist white people infiltrated disrupted conference calls subsequently released phone number infiltrators veteran immediately started receiving threatening calls f***yoflag movement supporters allegedly told veteran infiltrated publicly posted conference going rape gut pregnant wife f***ing piece sh*t unborn creature hung tree breitbart texas previously encountered sunshine sandra bland protest waller county jail texas said white people killed told journalists photographers nappy ass hair head means militant negroes said protest redneck mother f**kers murdered sandra bland nappy hair like fyf911 black radicals holding imperial powers actually responsible terrorist attacks september 11th accountable day reported breitbart texas websites twitter handles movement palmetto star describes head organizers said youtube video supporters burning symbols illusion superiority false white supremacy like american flag british flag police uniforms ku klux klan hoods sierra mcgrone nocturnus libertus posted help young afrikan clean rag oppression posted photos appears photo black man wiping naked butts american flag entire story breitbart news'"
      ]
     },
     "execution_count": 86,
     "metadata": {},
     "output_type": "execute_result"
    }
   ],
   "source": [
    "preprocessed_data['text'][0]"
   ]
  },
  {
   "cell_type": "code",
   "execution_count": 87,
   "metadata": {},
   "outputs": [
    {
     "data": {
      "text/plain": [
       "1"
      ]
     },
     "execution_count": 87,
     "metadata": {},
     "output_type": "execute_result"
    }
   ],
   "source": [
    "preprocessed_data['label'][0]"
   ]
  },
  {
   "cell_type": "code",
   "execution_count": null,
   "metadata": {},
   "outputs": [],
   "source": []
  }
 ],
 "metadata": {
  "kernelspec": {
   "display_name": "Python 3 (ipykernel)",
   "language": "python",
   "name": "python3"
  },
  "language_info": {
   "codemirror_mode": {
    "name": "ipython",
    "version": 3
   },
   "file_extension": ".py",
   "mimetype": "text/x-python",
   "name": "python",
   "nbconvert_exporter": "python",
   "pygments_lexer": "ipython3",
   "version": "3.8.8"
  }
 },
 "nbformat": 4,
 "nbformat_minor": 4
}
