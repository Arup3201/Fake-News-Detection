{
 "cells": [
  {
   "cell_type": "code",
   "execution_count": 14,
   "metadata": {},
   "outputs": [],
   "source": [
    "import numpy as np\n",
    "import pandas as pd\n",
    "import plotly.express as px\n",
    "import spacy\n",
    "from spacy.matcher import Matcher"
   ]
  },
  {
   "cell_type": "markdown",
   "metadata": {},
   "source": [
    "**Dataset**"
   ]
  },
  {
   "cell_type": "code",
   "execution_count": 2,
   "metadata": {},
   "outputs": [],
   "source": [
    "data = pd.read_excel('../data/news_dataset.xlsx')"
   ]
  },
  {
   "cell_type": "code",
   "execution_count": 3,
   "metadata": {},
   "outputs": [
    {
     "data": {
      "text/html": [
       "<div>\n",
       "<style scoped>\n",
       "    .dataframe tbody tr th:only-of-type {\n",
       "        vertical-align: middle;\n",
       "    }\n",
       "\n",
       "    .dataframe tbody tr th {\n",
       "        vertical-align: top;\n",
       "    }\n",
       "\n",
       "    .dataframe thead th {\n",
       "        text-align: right;\n",
       "    }\n",
       "</style>\n",
       "<table border=\"1\" class=\"dataframe\">\n",
       "  <thead>\n",
       "    <tr style=\"text-align: right;\">\n",
       "      <th></th>\n",
       "      <th>text</th>\n",
       "      <th>label</th>\n",
       "    </tr>\n",
       "  </thead>\n",
       "  <tbody>\n",
       "    <tr>\n",
       "      <th>0</th>\n",
       "      <td>No comment is expected from Barack Obama Membe...</td>\n",
       "      <td>fake</td>\n",
       "    </tr>\n",
       "    <tr>\n",
       "      <th>1</th>\n",
       "      <td>Did they post their votes for Hillary already?</td>\n",
       "      <td>fake</td>\n",
       "    </tr>\n",
       "    <tr>\n",
       "      <th>2</th>\n",
       "      <td>Now, most of the demonstrators gathered last ...</td>\n",
       "      <td>fake</td>\n",
       "    </tr>\n",
       "    <tr>\n",
       "      <th>3</th>\n",
       "      <td>A dozen politically active pastors came here f...</td>\n",
       "      <td>real</td>\n",
       "    </tr>\n",
       "    <tr>\n",
       "      <th>4</th>\n",
       "      <td>The RS-28 Sarmat missile, dubbed Satan 2, will...</td>\n",
       "      <td>fake</td>\n",
       "    </tr>\n",
       "  </tbody>\n",
       "</table>\n",
       "</div>"
      ],
      "text/plain": [
       "                                                text label\n",
       "0  No comment is expected from Barack Obama Membe...  fake\n",
       "1     Did they post their votes for Hillary already?  fake\n",
       "2   Now, most of the demonstrators gathered last ...  fake\n",
       "3  A dozen politically active pastors came here f...  real\n",
       "4  The RS-28 Sarmat missile, dubbed Satan 2, will...  fake"
      ]
     },
     "execution_count": 3,
     "metadata": {},
     "output_type": "execute_result"
    }
   ],
   "source": [
    "data.head()"
   ]
  },
  {
   "cell_type": "markdown",
   "metadata": {},
   "source": [
    "## Data Preprocessing\n",
    "\n",
    "**Strategy:**\n",
    "1. Tokenize news.\n",
    "2. Lower case the tokens.\n",
    "3. Remove stop words.\n",
    "4. Use lemmatization on the tokens.\n",
    "5. Replace numbers with NUM and time with TIME token.\n",
    "6. Remove special characters from the news.\n",
    "7. Remove rare tokens.\n",
    "8. Vectorize the news using TF-IDF or Word Embedding to represent in formtat suitable for machine learning model."
   ]
  },
  {
   "cell_type": "code",
   "execution_count": 4,
   "metadata": {},
   "outputs": [
    {
     "data": {
      "text/plain": [
       "['Tokenize', 'this', 'sentence', 'using', 'Spacy', '.']"
      ]
     },
     "execution_count": 4,
     "metadata": {},
     "output_type": "execute_result"
    }
   ],
   "source": [
    "# Example of using Spacy\n",
    "nlp = spacy.load(\"en_core_web_sm\")\n",
    "text = \"Tokenize this sentence using Spacy.\"\n",
    "doc = nlp(text)\n",
    "[token.text for token in doc]"
   ]
  },
  {
   "cell_type": "code",
   "execution_count": 7,
   "metadata": {},
   "outputs": [],
   "source": [
    "# Take one short news\n",
    "sample_news = data['text'][1]"
   ]
  },
  {
   "cell_type": "code",
   "execution_count": 8,
   "metadata": {
    "scrolled": true
   },
   "outputs": [
    {
     "data": {
      "text/plain": [
       "['Did', 'they', 'post', 'their', 'votes', 'for', 'Hillary', 'already', '?']"
      ]
     },
     "execution_count": 8,
     "metadata": {},
     "output_type": "execute_result"
    }
   ],
   "source": [
    "# Tokenize the news\n",
    "doc = nlp(sample_news)\n",
    "[token.text for token in doc]"
   ]
  },
  {
   "cell_type": "code",
   "execution_count": 9,
   "metadata": {},
   "outputs": [
    {
     "data": {
      "text/plain": [
       "['did', 'they', 'post', 'their', 'votes', 'for', 'hillary', 'already', '?']"
      ]
     },
     "execution_count": 9,
     "metadata": {},
     "output_type": "execute_result"
    }
   ],
   "source": [
    "# Lower case the tokens\n",
    "[token.text.lower() for token in doc]"
   ]
  },
  {
   "cell_type": "code",
   "execution_count": 10,
   "metadata": {},
   "outputs": [
    {
     "data": {
      "text/plain": [
       "['post', 'votes', 'hillary', '?']"
      ]
     },
     "execution_count": 10,
     "metadata": {},
     "output_type": "execute_result"
    }
   ],
   "source": [
    "# Remove the stop words\n",
    "[token.text.lower() for token in doc if not token.is_stop]"
   ]
  },
  {
   "cell_type": "code",
   "execution_count": 11,
   "metadata": {},
   "outputs": [
    {
     "name": "stdout",
     "output_type": "stream",
     "text": [
      "None\n"
     ]
    }
   ],
   "source": [
    "# Look at the Spacy lemmatizer\n",
    "lemmatizer = nlp.get_pipe(\"lemmatizer\")\n",
    "print(lemmatizer.model)"
   ]
  },
  {
   "cell_type": "code",
   "execution_count": 12,
   "metadata": {},
   "outputs": [
    {
     "data": {
      "text/plain": [
       "['post', 'vote', 'hillary', '?']"
      ]
     },
     "execution_count": 12,
     "metadata": {},
     "output_type": "execute_result"
    }
   ],
   "source": [
    "# Get lemmatization of tokens\n",
    "[token.lemma_.lower() for token in doc if not token.is_stop]"
   ]
  },
  {
   "cell_type": "code",
   "execution_count": 29,
   "metadata": {},
   "outputs": [
    {
     "data": {
      "text/plain": [
       "'dozen politically active pastor come private dinner friday <TIME> hear conversion story unique context presidential politic : louisiana gov. bobby jindal travel hinduism protestant christianity , ultimately , call â€œevangelical catholic.â€\\x9d \\n\\n <NUMBER> <TIME> , jindal , <NUMBER> , recall talk girl high school want â€œsave soul , â€\\x9d read bible closet parent feel stir watch movie senior year depict jesus cross . \\n\\n â€œi strike , strike hard , â€\\x9d jindal tell pastor . â€œthis son god , die sins.â€\\x9d \\n\\n jindalâ€ ™ s session christian clergy , lead congregation early presidential battleground state iowa south carolina , - - scene effort louisiana governor find political base help propel tier republican candidate seek run white house <NUMBER> . \\n\\n know gop circle mastery policy issue health care , jindal , rhodes scholar graduate ivy leagueâ€ ™ s brown university , obvious pool activist supporter help drive excitement outside home state . harness religious experience way begin appeal part gopâ€ ™ s influential core religious conservative , find favorite republicans eye presidential race . \\n\\n potential <NUMBER> gop candidate woo evangelical base , include sens . rand paul ( ky. ) ted cruz ( tex . ) indiana gov. mike pence . \\n\\n weekend lynchburg â€ \" mecca sort evangelical home liberty university , found 1970 rev. jerry falwell â€ \" jindal appear progress . \\n\\n addition dinner pastor , deliver - receive â€œcall actionâ€\\x9d address <NUMBER> christian conservative gather libertyâ€ ™ s commencement ceremony , talk faith assail say president obamaâ€ ™ s record attack religious liberty . \\n\\n pastor come meet jindal say intimate description experience stand . \\n\\n â€œhe conviction , take communicate , â€\\x9d say brad sherman solid rock christian church coralville , iowa . sherman help arkansas governor mike huckabee win <NUMBER> campaign delegate iowa . \\n\\n huckabee admirer , rev. c. mitchell brooks <NUMBER> baptist church belton , s.c. , say jindalâ€ ™ s commitment christian value compelling story â€œon parâ€\\x9d huckabee , baptist preacher enter politic . \\n\\n visit pastor fly lynchburg weekend invitation american renewal project , - fund nonprofit group encourage evangelical christians engage civic arena voter guide , - - - vote drive program train pastor grass - root activism . groupâ€ ™ s founder , david lane , build pastor network politically important state iowa , missouri , ohio south carolina lead trip israel paul seek inroad evangelical activist . \\n\\n group lane invite toâ \\xa0 lynchburg include donald wildâ\\xadmon , retire minister founder american family association , prominent evangelical activist group influence network <NUMBER> christian radio station . \\n\\n pastor laneâ€ ™ s organization bring lynchburg meet jindal . say capture interest recently step forward defend phil robertson , patriarch â€œduck dynastyâ€\\x9d television - family , amid controversy disparage remark gay interview gq magazine . \\n\\n lynchburg visit , jindal present willing culture warrior . \\n\\n commencement address saturday , take cause twin brother hgtv reality series renovate resell house , â€œflip forward , â€\\x9d cancel week web site reveal protest - sex marriage <NUMBER> democratic national convention charlotte . \\n\\n sibling , jason david benham , liberty graduate , attend graduation private lunch jindal , call action â€œanother demonstration intolerance entertainment industry.â€\\x9d \\n\\n â€œif guy protest republican party convention , instead cancel , hgtv probably give raise , â€\\x9d jindal say liberty crowd applaud . \\n\\n cite hobby lobby craft store chain , face legal challenge refuse provide employee insurance coverage contraceptive require affordable care act . member family own hobby lobby , hero religious conservative , say morally oppose use certain type birth control consider requirement violation <NUMBER> amendment right religious freedom . \\n\\n family â€œcommitte honor lord generous employer , pay minimum wage increase salary <NUMBER> year row midst endure recession , â€\\x9d jindal tell liberty graduate . â€œnone matter obama administration.â€\\x9d \\n\\n pastor come jindal action , governorâ€ ™ s story highlight weekend . way , unlike aspire president activist meet . \\n\\n piyush jindal bear <NUMBER> , <NUMBER> month parent arrive baton rouge , la. , native india . change bobby young boy , adopt character favorite television , â€œthe brady bunch.â€\\x9d \\n\\n decision christian , tell pastor , come <NUMBER> moment lightning epiphany . instead , say , happen phase , grow small seed plant time . \\n\\n jindal recall close friend grade school give bible emblazon gold cover christmas present . strike initially unimpressive gift , jindal tell pastor . \\n\\n â€œwho world spend good money bible know <NUMBER> free hotel?â€\\x9d recall think time . â€œand gold lettering mean couldnâ€ ™ t away return it.â€\\x9d \\n\\n religious education reach high plane junior year high school , tell dinner audience . want ask pretty girl date hallway conversation , start talk faith god opposition abortion . girl invite visit church . \\n\\n jindal say skeptical set â€œinvestigate fanciful claimsâ€\\x9d girl friend . start read bible closet home . â€œi unsure parent react , â€\\x9d say . \\n\\n stirring moment see christ depict cross religious movie , bible existence suddenly clear , jindal tell pastor . \\n\\n jindal dwell subsequent conversion catholicism year later college , say immerse tradition church . \\n\\n touch briefly commencement address , note pass â€œi well describe evangelical catholic.â€\\x9d , seek showcase way share value christian conservative . \\n\\n â€œi read word jesus christ , realize true , â€\\x9d jindal tell graduate saturday , offer detailed accounting conversion <TIME> <TIME> pastor . â€œi think find god , believe accurate find me.â€\\x9d'"
      ]
     },
     "execution_count": 29,
     "metadata": {},
     "output_type": "execute_result"
    }
   ],
   "source": [
    "sample_news = data['text'][3]\n",
    "\n",
    "doc = nlp(sample_news)\n",
    "\n",
    "num_token = '<NUMBER>'\n",
    "time_token = '<TIME>'\n",
    "\n",
    "news = []\n",
    "\n",
    "for token in doc:\n",
    "    if token.like_num:\n",
    "        news.append(num_token)\n",
    "    elif token.ent_type_=='TIME':\n",
    "        news.append(time_token)\n",
    "    else:\n",
    "        news.append(token.lemma_.lower() if not token.is_stop else \"\")\n",
    "\n",
    "' '.join([word for word in news if not word==''])"
   ]
  },
  {
   "cell_type": "code",
   "execution_count": null,
   "metadata": {},
   "outputs": [],
   "source": [
    "def preprocessing(news):\n",
    "    pass"
   ]
  }
 ],
 "metadata": {
  "kernelspec": {
   "display_name": "Python 3 (ipykernel)",
   "language": "python",
   "name": "python3"
  },
  "language_info": {
   "codemirror_mode": {
    "name": "ipython",
    "version": 3
   },
   "file_extension": ".py",
   "mimetype": "text/x-python",
   "name": "python",
   "nbconvert_exporter": "python",
   "pygments_lexer": "ipython3",
   "version": "3.8.8"
  }
 },
 "nbformat": 4,
 "nbformat_minor": 4
}
